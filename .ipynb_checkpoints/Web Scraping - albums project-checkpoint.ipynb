{
 "cells": [
  {
   "cell_type": "code",
   "execution_count": null,
   "metadata": {},
   "outputs": [],
   "source": [
    "#Importing all Python libraries\n",
    "import requests #requests allows you to send HTTP requests to other websites using Python\n",
    "from bs4 import BeautifulSoup #BeautifulSoup is used for scraping webpage material\n",
    "import numpy as np #Numpy is used for calculations\n",
    "import pandas as pd #Pandas is used for cleaning and manipulating dataset"
   ]
  },
  {
   "cell_type": "code",
   "execution_count": null,
   "metadata": {},
   "outputs": [],
   "source": [
    "#sends HTTP request to page on Business Insider listing Top 50 albums of all times\n",
    "pg = requests.get('https://www.businessinsider.com/50-best-selling-albums-all-time-2016-9#21-led-zeppelin-physical-graffiti-30')"
   ]
  },
  {
   "cell_type": "code",
   "execution_count": null,
   "metadata": {},
   "outputs": [],
   "source": [
    "pg.status_code #Status code of 200 indicates that it was able to gain access to website(request was successful)"
   ]
  },
  {
   "cell_type": "code",
   "execution_count": null,
   "metadata": {},
   "outputs": [],
   "source": [
    "pg.content #shows content of webpage"
   ]
  },
  {
   "cell_type": "code",
   "execution_count": null,
   "metadata": {},
   "outputs": [],
   "source": [
    "soup = BeautifulSoup(pg.content, 'html.parser') #parses html tags of website"
   ]
  },
  {
   "cell_type": "code",
   "execution_count": null,
   "metadata": {},
   "outputs": [],
   "source": [
    "soup.title #shows the title of the webpage"
   ]
  },
  {
   "cell_type": "code",
   "execution_count": null,
   "metadata": {},
   "outputs": [],
   "source": [
    "h2 = soup.find_all('h2') #finds all of the text with 'h2' HTML tags"
   ]
  },
  {
   "cell_type": "code",
   "execution_count": null,
   "metadata": {},
   "outputs": [],
   "source": [
    "type(h2) #shows the data type of h2"
   ]
  },
  {
   "cell_type": "code",
   "execution_count": null,
   "metadata": {},
   "outputs": [],
   "source": [
    "len(h2) #shows the length of h2, or the ResultSet "
   ]
  },
  {
   "cell_type": "code",
   "execution_count": null,
   "metadata": {},
   "outputs": [],
   "source": [
    "h2 #shows the ResultSet which consists of the artists and their respective albums"
   ]
  },
  {
   "cell_type": "code",
   "execution_count": null,
   "metadata": {},
   "outputs": [],
   "source": [
    "type(h2[36]) #shows the datatype of element 36 in h2 ResultSet"
   ]
  },
  {
   "cell_type": "code",
   "execution_count": null,
   "metadata": {
    "scrolled": true
   },
   "outputs": [],
   "source": [
    "#The goal here is to replace the en dash with an em dash and then to split the elements at the em dash\n",
    "artists = [] #creates empty list called artists \n",
    "for i in h2: #loops through h2 resultset \n",
    "    info = i.text #parses text of element\n",
    "    if '–' in info: #checks to see if any of the elements has an en dash so that it can replace it with the em dash\n",
    "        info = info.replace('–','—')\n",
    "    artists.append(info.split('—')) #splits each of the elements at the em dash and then adds it onto empty artists list\n",
    "print(artists) #prints updates list of artists with their albumns"
   ]
  },
  {
   "cell_type": "code",
   "execution_count": null,
   "metadata": {},
   "outputs": [],
   "source": [
    "artists #shows all of the elements of the artists list "
   ]
  },
  {
   "cell_type": "code",
   "execution_count": null,
   "metadata": {},
   "outputs": [],
   "source": [
    "artists[40] #shows the 40th element of the artists list "
   ]
  },
  {
   "cell_type": "code",
   "execution_count": null,
   "metadata": {},
   "outputs": [],
   "source": [
    "#adding all of the albums onto a separate list called albums\n",
    "albums = [] #creates empty list called albums\n",
    "for i in artists: #loops through artists list so that the second element, the albums can be added onto separate list\n",
    "    albums.append(i[1]) #adds each album into albums\n",
    "print(albums) #prints updated list"
   ]
  },
  {
   "cell_type": "code",
   "execution_count": null,
   "metadata": {},
   "outputs": [],
   "source": [
    "#adding all of the artists and ranks onto a separate list called art \n",
    "art = [] #creates empty list called art\n",
    "for i in artists: #loops through artists list so that first element, the artist its rank, can be added onto separate list \n",
    "    art.append(i[0]) #adds each artist into art \n",
    "    \n",
    "print(art) #prints updated list "
   ]
  },
  {
   "cell_type": "code",
   "execution_count": null,
   "metadata": {},
   "outputs": [],
   "source": [
    "#splits the artists and ranks into two separate elements and loads it into new list called stuff\n",
    "stuff = [] #creates empty list called stuff\n",
    "for i in art: #loops through 'art' list \n",
    "    stuff.append(i.split('.')) #splits each element by period\n",
    "\n",
    "print(stuff) #prints updated list with artists and ranks as separate elements within a list \n",
    "    "
   ]
  },
  {
   "cell_type": "code",
   "execution_count": null,
   "metadata": {},
   "outputs": [],
   "source": [
    "#The goal is to load the rank of each artist's album onto a separate list \n",
    "rank = []\n",
    "for i in stuff:\n",
    "    rank.append(i[0])\n",
    "print(rank)"
   ]
  },
  {
   "cell_type": "code",
   "execution_count": null,
   "metadata": {},
   "outputs": [],
   "source": [
    "#The goal is to load the artist onto a separate list\n",
    "singer = []\n",
    "for i in stuff:\n",
    "    singer.append(i[1])\n",
    "print(singer)"
   ]
  },
  {
   "cell_type": "code",
   "execution_count": null,
   "metadata": {},
   "outputs": [],
   "source": [
    "rank #shows elements of rank list "
   ]
  },
  {
   "cell_type": "code",
   "execution_count": null,
   "metadata": {},
   "outputs": [],
   "source": [
    "singer #shows elements of singer list "
   ]
  },
  {
   "cell_type": "code",
   "execution_count": null,
   "metadata": {},
   "outputs": [],
   "source": [
    "albums #shows elements of albums list "
   ]
  },
  {
   "cell_type": "code",
   "execution_count": null,
   "metadata": {},
   "outputs": [],
   "source": [
    "album = [] #creates empty list called album\n",
    "for j in albums: #loops through album list \n",
    "    if '\\xa0' in j: #checks to see if characters are present in element and if so it removes those characters \n",
    "        album.append(j.replace('\\xa0', ''))\n",
    "    else: #otherwise it simply adds the element onto new list album \n",
    "        album.append(j)"
   ]
  },
  {
   "cell_type": "code",
   "execution_count": null,
   "metadata": {},
   "outputs": [],
   "source": [
    "album #prints updated list with Top 50 albums "
   ]
  },
  {
   "cell_type": "code",
   "execution_count": null,
   "metadata": {},
   "outputs": [],
   "source": [
    "alb = []\n",
    "for i in album:\n",
    "    alb.append(i.replace('\"', '')) #removes quotation marks from those elements that have them \n",
    "print(alb)"
   ]
  },
  {
   "cell_type": "code",
   "execution_count": null,
   "metadata": {},
   "outputs": [],
   "source": [
    "soup.find_all('p') #finds all text within webpage with the 'p' HTML tag "
   ]
  },
  {
   "cell_type": "code",
   "execution_count": null,
   "metadata": {},
   "outputs": [],
   "source": [
    "p = soup.find_all('p') #stores list of all text with p tags into variable 'p'"
   ]
  },
  {
   "cell_type": "code",
   "execution_count": null,
   "metadata": {},
   "outputs": [],
   "source": [
    "units = [] #creates empty units list \n",
    "for i in p: #loops through all text with p tag\n",
    "    if 'million' in i.text: #checks to see if the word million is found in text with p tag \n",
    "        units.append(i.text) #If million is found in text with p tag, it is added into units list \n",
    "    else:\n",
    "        continue #continues through text with p tags to see if next text with p tag has the word million"
   ]
  },
  {
   "cell_type": "code",
   "execution_count": null,
   "metadata": {},
   "outputs": [],
   "source": [
    "units"
   ]
  },
  {
   "cell_type": "code",
   "execution_count": null,
   "metadata": {},
   "outputs": [],
   "source": [
    "len(units) #Returns the length of the updated units list "
   ]
  },
  {
   "cell_type": "code",
   "execution_count": null,
   "metadata": {},
   "outputs": [],
   "source": [
    "#Removing certified units from each element in units list and adding updated elements into 'r_units' list so that only the number sold will be shown\n",
    "r_units = [] #creates empty list \n",
    "for i in units: #Loops through units list \n",
    "    r_units.append(i.replace('Certified units:', ' ')) #adds updated elements into r_units list "
   ]
  },
  {
   "cell_type": "code",
   "execution_count": null,
   "metadata": {},
   "outputs": [],
   "source": [
    "r_units #Returns updated list "
   ]
  },
  {
   "cell_type": "code",
   "execution_count": null,
   "metadata": {},
   "outputs": [],
   "source": [
    "len(r_units) #Returns length of updated list "
   ]
  },
  {
   "cell_type": "code",
   "execution_count": null,
   "metadata": {},
   "outputs": [],
   "source": [
    "rank_df = pd.DataFrame(rank, columns=['rank']) #converts list of ranks into DataFrame"
   ]
  },
  {
   "cell_type": "code",
   "execution_count": null,
   "metadata": {},
   "outputs": [],
   "source": [
    "singer_df = pd.DataFrame(singer, columns=['singer']) #converts list of artists into DataFrame"
   ]
  },
  {
   "cell_type": "code",
   "execution_count": null,
   "metadata": {},
   "outputs": [],
   "source": [
    "album_df = pd.DataFrame(alb, columns=['album']) #converts list of albums into DataFrame"
   ]
  },
  {
   "cell_type": "code",
   "execution_count": null,
   "metadata": {},
   "outputs": [],
   "source": [
    "r_units_df = pd.DataFrame(r_units, columns=['number of units']) #converts list of number of units sold into DataFrame"
   ]
  },
  {
   "cell_type": "code",
   "execution_count": null,
   "metadata": {},
   "outputs": [],
   "source": [
    "top_albums = pd.concat([rank_df, singer_df, album_df, r_units_df], axis=1) #Combines all of the above DataFrames together "
   ]
  },
  {
   "cell_type": "code",
   "execution_count": null,
   "metadata": {},
   "outputs": [],
   "source": [
    "top_albums.head() #Shows first 5 rows of new DataFrame "
   ]
  },
  {
   "cell_type": "code",
   "execution_count": null,
   "metadata": {
    "scrolled": true
   },
   "outputs": [],
   "source": [
    "top_albums.to_csv(r'C:\\Users\\The_vinchenzo\\Documents\\albums.csv', index=False, encoding='utf-8') #Converts DataFrame into csv file"
   ]
  },
  {
   "cell_type": "code",
   "execution_count": null,
   "metadata": {},
   "outputs": [],
   "source": []
  }
 ],
 "metadata": {
  "kernelspec": {
   "display_name": "Python 3",
   "language": "python",
   "name": "python3"
  },
  "language_info": {
   "codemirror_mode": {
    "name": "ipython",
    "version": 3
   },
   "file_extension": ".py",
   "mimetype": "text/x-python",
   "name": "python",
   "nbconvert_exporter": "python",
   "pygments_lexer": "ipython3",
   "version": "3.6.5"
  }
 },
 "nbformat": 4,
 "nbformat_minor": 2
}
